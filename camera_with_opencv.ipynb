{
 "cells": [
  {
   "cell_type": "markdown",
   "metadata": {},
   "source": [
    "Open webcam with python"
   ]
  },
  {
   "cell_type": "code",
   "execution_count": 11,
   "metadata": {},
   "outputs": [],
   "source": [
    "import cv2\n",
    "cap = cv2.VideoCapture(0)               #selecting the camera if one has mutiple cameras\n",
    "while True:\n",
    "    ret, img = cap.read()               #ret: if video camera is working properly, img: image frame\n",
    "    cv2.imshow('webcam', img)\n",
    "    k = cv2.waitKey(10)                 #don't know why 10, doesn't matter which num is put in here\n",
    "    if k==27:                           #if press key 27: Esc then, camera off\n",
    "        break;\n",
    "cap.release()\n",
    "cv2.destroyAllWindows()\n"
   ]
  },
  {
   "cell_type": "markdown",
   "metadata": {},
   "source": [
    "Adjust camera parameters: Exposure, Brightness, Saturation, Contrast"
   ]
  },
  {
   "cell_type": "code",
   "execution_count": 12,
   "metadata": {},
   "outputs": [],
   "source": [
    "#Don't use it for just fun, it'll ruin your camera setting! And it's hard to restore default setting again"
   ]
  },
  {
   "cell_type": "code",
   "execution_count": 10,
   "metadata": {},
   "outputs": [
    {
     "name": "stdout",
     "output_type": "stream",
     "text": [
      "EXPOSURE -6.0\n",
      "CAP_PROP_BRIGHTNESS 0.0\n",
      "Staturation 64.0\n",
      "Constrast:  32.0\n"
     ]
    }
   ],
   "source": [
    "my_track_method = cv2.legacy.TrackerCSRT_create()\n",
    "\n",
    "#do not run this until u really need this, or it will ruin camera settings\n",
    "cap = cv2.VideoCapture(0)\n",
    "print('EXPOSURE',cap.get(cv2.CAP_PROP_EXPOSURE))\n",
    "cap.set(cv2.CAP_PROP_EXPOSURE, -15) \n",
    "print('CAP_PROP_BRIGHTNESS',cap.get(cv2.CAP_PROP_BRIGHTNESS))\n",
    "cap.set(cv2.CAP_PROP_BRIGHTNESS, -60)\n",
    "print('Staturation',cap.get(cv2.CAP_PROP_SATURATION))\n",
    "cap.set(cv2.CAP_PROP_SATURATION,40)\n",
    "print('Constrast: ',cap.get(cv2.CAP_PROP_CONTRAST))\n",
    "cap.set(cv2.CAP_PROP_CONTRAST, -10 )\n",
    "\n",
    "while True:\n",
    "    ret, img = cap.read()\n",
    "    cv2.imshow('webcam', img)\n",
    "    k = cv2.waitKey(10)\n",
    "    if k==27:\n",
    "        cap.set(cv2.CAP_PROP_SETTINGS, 0.0)\n",
    "        break;\n",
    "cap.release()\n",
    "cv2.destroyAllWindows()\n",
    "\n",
    "# you can solve this problem by using windows camera app.\n",
    "# plug in the usb cam you have and click Windows icon ->search->Camera\n",
    "# if you see the clean video, the usb cam settings are all reverted to the beginning.\n",
    "# hope this answer would be helpful to everyone."
   ]
  },
  {
   "attachments": {},
   "cell_type": "markdown",
   "metadata": {},
   "source": [
    "Just another way to open webcam with preferred key to close window"
   ]
  },
  {
   "cell_type": "code",
   "execution_count": 8,
   "metadata": {},
   "outputs": [],
   "source": [
    "cap = cv2.VideoCapture(0)                #selecting the camera if one has mutiple cameras\n",
    "while True:\n",
    "    ret, img = cap.read()                #ret: if video camera is working properly, img: image frame\n",
    "    cv2.imshow('webcam', img)\n",
    "    \n",
    "    if cv2.waitKey(1) == ord('x'):       #if x pressed, then window closed\n",
    "        break;\n",
    "\n",
    "cap.release()\n",
    "cv2.destroyAllWindows()"
   ]
  },
  {
   "cell_type": "markdown",
   "metadata": {},
   "source": [
    "Just displaying one black display"
   ]
  },
  {
   "cell_type": "code",
   "execution_count": 18,
   "metadata": {},
   "outputs": [],
   "source": [
    "import numpy as np\n",
    "\n",
    "cap = cv2.VideoCapture(0)                #selecting the camera if one has mutiple cameras\n",
    "while True:\n",
    "    ret, img = cap.read()                #ret: if video camera is working properly, img: image frame\n",
    "    black_img = np.zeros(img.shape, np.uint8)\n",
    "    cv2.imshow('webcam', black_img)\n",
    "    \n",
    "    if cv2.waitKey(1) == ord('x'):       #if x pressed, then window closed\n",
    "        break;\n",
    "\n",
    "cap.release()\n",
    "cv2.destroyAllWindows()\n"
   ]
  },
  {
   "cell_type": "markdown",
   "metadata": {},
   "source": [
    "Mirroring video multiple times"
   ]
  },
  {
   "attachments": {},
   "cell_type": "markdown",
   "metadata": {},
   "source": [
    "Mirroring video multiple times with 180 degree rotate"
   ]
  },
  {
   "cell_type": "code",
   "execution_count": 13,
   "metadata": {},
   "outputs": [],
   "source": [
    "import cv2\n",
    "import numpy as np\n",
    "\n",
    "cap = cv2.VideoCapture(0)                #selecting the camera if one has mutiple cameras\n",
    "# cap.set(cv2.CAP_PROP_SETTINGS, 0.0)\n",
    "while True:\n",
    "    ret, img = cap.read()                #ret: if video camera is working properly, img: image frame\n",
    "    \n",
    "    width = int(cap.get(3))              #17 attributes, 3 for width\n",
    "    height = int(cap.get(4))             #4 for height\n",
    "    \n",
    "    black_img = np.zeros(img.shape, np.uint8)\n",
    "    smaller_img = cv2.resize(img, (0,0), fx= 0.5, fy= 0.5)\n",
    "\n",
    "\n",
    "#in this case, 90 degree rotation is not possible as it will change the height and width of the frame\n",
    "    black_img[:height//2, :width//2] = cv2.rotate(smaller_img, cv2.ROTATE_180)\n",
    "    black_img[height//2:, :width//2] = smaller_img\n",
    "    black_img[:height//2, width//2:] = cv2.rotate(smaller_img, cv2.ROTATE_180)\n",
    "    black_img[height//2:, width//2:] = smaller_img\n",
    "    \n",
    "    cv2.imshow('webcam', black_img)\n",
    "    \n",
    "    if cv2.waitKey(1) == ord('x'):       #if x pressed, then window closed\n",
    "        break;\n",
    "\n",
    "cap.release()\n",
    "cv2.destroyAllWindows()"
   ]
  },
  {
   "cell_type": "code",
   "execution_count": null,
   "metadata": {},
   "outputs": [],
   "source": []
  }
 ],
 "metadata": {
  "kernelspec": {
   "display_name": "py37gpu",
   "language": "python",
   "name": "python3"
  },
  "language_info": {
   "codemirror_mode": {
    "name": "ipython",
    "version": 3
   },
   "file_extension": ".py",
   "mimetype": "text/x-python",
   "name": "python",
   "nbconvert_exporter": "python",
   "pygments_lexer": "ipython3",
   "version": "3.7.15"
  },
  "orig_nbformat": 4,
  "vscode": {
   "interpreter": {
    "hash": "ba2734e34435ffb131d545e31f8d45db211a2eb842b463ec1614cf90b2a25443"
   }
  }
 },
 "nbformat": 4,
 "nbformat_minor": 2
}
