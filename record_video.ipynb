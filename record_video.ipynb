{
 "cells": [
  {
   "attachments": {},
   "cell_type": "markdown",
   "metadata": {},
   "source": [
    "Import packages"
   ]
  },
  {
   "cell_type": "code",
   "execution_count": 2,
   "metadata": {},
   "outputs": [],
   "source": [
    "import cv2\n",
    "from cv2 import VideoWriter\n",
    "from cv2 import VideoWriter_fourcc\n"
   ]
  },
  {
   "attachments": {},
   "cell_type": "markdown",
   "metadata": {},
   "source": [
    "Capturing video and record it"
   ]
  },
  {
   "cell_type": "code",
   "execution_count": 5,
   "metadata": {},
   "outputs": [
    {
     "name": "stdout",
     "output_type": "stream",
     "text": [
      "EXPOSURE -6.0\n",
      "CAP_PROP_BRIGHTNESS 0.0\n",
      "Staturation 64.0\n",
      "Constrast:  32.0\n"
     ]
    }
   ],
   "source": [
    "cap = cv2.VideoCapture(0)\n",
    "# print('EXPOSURE',cap.get(cv2.CAP_PROP_EXPOSURE))\n",
    "# cap.set(cv2.CAP_PROP_EXPOSURE, -15) \n",
    "# print('CAP_PROP_BRIGHTNESS',cap.get(cv2.CAP_PROP_BRIGHTNESS))\n",
    "# cap.set(cv2.CAP_PROP_BRIGHTNESS, -60)\n",
    "# print('Staturation',cap.get(cv2.CAP_PROP_SATURATION))\n",
    "# cap.set(cv2.CAP_PROP_SATURATION,40)\n",
    "# print('Constrast: ',cap.get(cv2.CAP_PROP_CONTRAST))\n",
    "# cap.set(cv2.CAP_PROP_CONTRAST, -10 )\n",
    "\n",
    "#open output video file stream\n",
    "video = VideoWriter('recored_occ.avi', VideoWriter_fourcc(*'MP42'), 30.0, (640, 480))\n",
    "\n",
    "while True:\n",
    "    ret, frame = cap.read()\n",
    "    if ret:\n",
    "        cv2.imshow('video_recoder', frame)\n",
    "\n",
    "        video.write(frame)                            #write frame to the video file\n",
    "\n",
    "    if cv2.waitKey(1) == ord('x'):                    #if x pressed, then window closed\n",
    "        break;\n",
    "\n",
    "cap.release()\n",
    "cv2.destroyAllWindows()\n",
    "\n",
    "video.release()\n",
    "\n"
   ]
  }
 ],
 "metadata": {
  "kernelspec": {
   "display_name": "py37gpu",
   "language": "python",
   "name": "python3"
  },
  "language_info": {
   "codemirror_mode": {
    "name": "ipython",
    "version": 3
   },
   "file_extension": ".py",
   "mimetype": "text/x-python",
   "name": "python",
   "nbconvert_exporter": "python",
   "pygments_lexer": "ipython3",
   "version": "3.7.15"
  },
  "orig_nbformat": 4,
  "vscode": {
   "interpreter": {
    "hash": "ba2734e34435ffb131d545e31f8d45db211a2eb842b463ec1614cf90b2a25443"
   }
  }
 },
 "nbformat": 4,
 "nbformat_minor": 2
}
